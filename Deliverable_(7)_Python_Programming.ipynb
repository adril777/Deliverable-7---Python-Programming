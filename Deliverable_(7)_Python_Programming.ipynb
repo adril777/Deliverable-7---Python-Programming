{
  "nbformat": 4,
  "nbformat_minor": 0,
  "metadata": {
    "colab": {
      "provenance": [],
      "authorship_tag": "ABX9TyMb7PwYNA0K3b1YDtS5BBK4",
      "include_colab_link": true
    },
    "kernelspec": {
      "name": "python3",
      "display_name": "Python 3"
    },
    "language_info": {
      "name": "python"
    }
  },
  "cells": [
    {
      "cell_type": "markdown",
      "metadata": {
        "id": "view-in-github",
        "colab_type": "text"
      },
      "source": [
        "<a href=\"https://colab.research.google.com/github/adril777/Deliverable-7---Python-Programming/blob/main/Deliverable_(7)_Python_Programming.ipynb\" target=\"_parent\"><img src=\"https://colab.research.google.com/assets/colab-badge.svg\" alt=\"Open In Colab\"/></a>"
      ]
    },
    {
      "cell_type": "code",
      "execution_count": null,
      "metadata": {
        "id": "PZyzNDt3QzNl"
      },
      "outputs": [],
      "source": [
        "import pandas as pd\n",
        "\n",
        "# Establish values\n",
        "n = int(input(\"Enter an integer value greater than 0: \"))\n",
        "\n",
        "# Conditional statement \n",
        "if n <= 0:\n",
        "    print(\"Invalid input.\")\n",
        "else:\n",
        "    # Create lists for each sequence according to requirements\n",
        "    even_list = [i*2 for i in range(n)]\n",
        "    odd_list = [i*2+1 for i in range(n)]\n",
        "    fib_list = [0, 1]\n",
        "    if n > 2:\n",
        "        for i in range(2, n):\n",
        "            fib_list.append(fib_list[i-1]+fib_list[i-2])\n",
        "\n",
        "    # Results in Data frame format\n",
        "    df = pd.DataFrame({'Even': even_list, 'Odd': odd_list, 'Fibonacci': fib_list})\n",
        "    print(df)"
      ]
    }
  ]
}